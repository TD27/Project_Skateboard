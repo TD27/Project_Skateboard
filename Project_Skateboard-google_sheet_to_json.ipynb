{
 "cells": [
  {
   "cell_type": "markdown",
   "metadata": {},
   "source": [
    "# Sensor on leg"
   ]
  },
  {
   "cell_type": "code",
   "execution_count": 1,
   "metadata": {},
   "outputs": [],
   "source": [
    "import pandas as pd\n",
    "import numpy as np\n",
    "import matplotlib.pyplot as plt\n",
    "import json\n",
    "from jsonmerge import Merger"
   ]
  },
  {
   "cell_type": "code",
   "execution_count": 2,
   "metadata": {},
   "outputs": [],
   "source": [
    "video_time = {\n",
    "    \"Exp1\" : \"0.19\",\n",
    "    \"Exp2\" : \"1.20\",\n",
    "    \"Exp3\" : \"2:20\",\n",
    "    \"Exp4(5)\" : \"3:07\",\n",
    "    \"Exp5\" : \"4:20\",\n",
    "    \"Exp6(7)\" : \"5:35\",\n",
    "    \"Exp7(8)\" : \"6:30\",\n",
    "    \"Exp8(9)\" : \"7:15\",\n",
    "    \"Exp9(10)\" : \"7:55\",\n",
    "    \"Exp10(11)\" : \"8:35 \"\n",
    "}\n",
    "\n",
    "URL_keys_leg = {\n",
    "    \"Exp2\" : '1u2JN_yVS9I-aDDk-xtRFLs9SDdrUNo0f',\n",
    "    \"Exp3\" : '1qolBHxLSiGi-bmDUZ-V0WzaCay7UaA3x',\n",
    "    \"Exp4(5)\" : '1eEh3oZpFoCo4dGdcVoGH6kuwIe7QY6rr',\n",
    "    \"Exp5\" : '1P3E_T65CdJncewSVA-3H8hveejoqcdy4',\n",
    "    \"Exp6(7)\" : '1kFniM6vHQVy659t0I4R86xH6bfGgo97K',\n",
    "    \"Exp7(8)\" : '19j6veOIvJoe3aln1MURMChglvMA2F5AS',\n",
    "    \"Exp8(9)\" : '1akmRWg8bhkKlAQV0XimEPTzsa7_UvazU',\n",
    "    \"Exp9(10)\" : '1llYUn_deIMOUQl14-aJL9Gw5BqT3nH53',\n",
    "    \"Exp10(11)\" : '1hdnEeKw7eb2bEvJLbtd12irF3N5qIFmc'\n",
    "}\n",
    "\n",
    "URL_keys_skateboard = {\n",
    "    \"Exp2\" : \"1jpkzzOPKSsxLzvqVpLwdUXHt7x_zDcQB\",\n",
    "    \"Exp3\" : \"19LX_0Se2VrXdYUOwJQ6AJAmw0pG_iapv\",\n",
    "    \"Exp4(5)\" : \"1QZ3Kd34F7ozO8-LZ8de__tSvdl9RzSTC\",\n",
    "    \"Exp5\" : \"1FvSAAIozBszLYqiX12ms9RBzPSFazGnI\",\n",
    "    \"Exp6(7)\" : \"1zs0ss59yLM1xqoOKM5BgZ0b0u-GRln24\",\n",
    "    \"Exp7(8)\" : \"1bMeB7DgIvmBkN5g99PVUe1VFHdDDFNqE\",\n",
    "    \"Exp8(9)\" : \"1pMKuiQ94n1lzXFSwPEFuVZ2aHYE2vy1-\",\n",
    "    \"Exp9(10)\" : \"1Ri5iHWYBIgz8tGcbQKl8oyyJd7YBJJ0h\",\n",
    "    \"Exp10(11)\" : \"1X4FWFzKxU47NVt250Gr-X45jjbo8c8Fb\"\n",
    "}\n",
    "\n",
    "URL_keys = {\n",
    "    \"skateboard\" : URL_keys_skateboard,\n",
    "    \"leg\" : URL_keys_leg\n",
    "}"
   ]
  },
  {
   "cell_type": "code",
   "execution_count": 3,
   "metadata": {},
   "outputs": [],
   "source": [
    "ranges = {\n",
    "    \"Exp2\" : [500,900],\n",
    "    \"Exp3\" : [600,1000],\n",
    "    \"Exp4(5)\" : [600,1000],\n",
    "    \"Exp5\" : [600,1000],\n",
    "    \"Exp6(7)\" : [600,1000],\n",
    "    \"Exp7(8)\" : [550,950],\n",
    "    \"Exp8(9)\" : [700,1100],\n",
    "    \"Exp9(10)\" : [1250,1750],\n",
    "    \"Exp10(11)\" : [700,1100]\n",
    "}\n",
    "\n",
    "classification = {\n",
    "    \"Exp2\" : \"good\",\n",
    "    \"Exp3\" : \"bad\",\n",
    "    \"Exp4(5)\" : \"good\",\n",
    "    \"Exp5\" : \"good\",\n",
    "    \"Exp6(7)\" : \"bad\",\n",
    "    \"Exp7(8)\" : \"good\",\n",
    "    \"Exp8(9)\" : \"good\",\n",
    "    \"Exp9(10)\" : \"bad\",\n",
    "    \"Exp10(11)\" : \"good\"\n",
    "}"
   ]
  },
  {
   "cell_type": "code",
   "execution_count": 4,
   "metadata": {},
   "outputs": [],
   "source": [
    "def to_json (data):\n",
    "    result=data.to_json(orient=\"split\")\n",
    "    parsed=json.loads(result)\n",
    "    file=json.dumps(parsed,indent=4)\n",
    "    return file\n",
    "\n",
    "def import_from_google (ID,name):\n",
    "    google_sheet_ID=ID\n",
    "    work_sheet=name\n",
    "    path='https://docs.google.com/spreadsheets/d/{0}/gviz/tq?tqx=out:csv&sheet={1}'.format(\n",
    "        google_sheet_ID,\n",
    "        work_sheet\n",
    "    )\n",
    "\n",
    "    data = pd.read_csv(path)\n",
    "    \n",
    "    if name==\"Gyroscope\":\n",
    "        data.columns = [c.replace(' ', '_') for c in data.columns]\n",
    "        data.columns = [c.replace('_(rad/s)', '') for c in data.columns]\n",
    "        data.columns = [c.replace('_(s)', '') for c in data.columns]\n",
    "    else:\n",
    "        data.columns = [c.replace(' ', '_') for c in data.columns]\n",
    "        data.columns = [c.replace('_(m/s^2)', '') for c in data.columns]\n",
    "        data.columns = [c.replace('_(s)', '') for c in data.columns]\n",
    "    \n",
    "    return data"
   ]
  },
  {
   "cell_type": "code",
   "execution_count": 7,
   "metadata": {
    "scrolled": false
   },
   "outputs": [
    {
     "name": "stdout",
     "output_type": "stream",
     "text": [
      "j= skateboard\n",
      "i= Exp2\n",
      "1jpkzzOPKSsxLzvqVpLwdUXHt7x_zDcQB\n",
      "i= Exp3\n",
      "19LX_0Se2VrXdYUOwJQ6AJAmw0pG_iapv\n",
      "i= Exp4(5)\n",
      "1QZ3Kd34F7ozO8-LZ8de__tSvdl9RzSTC\n",
      "i= Exp5\n",
      "1FvSAAIozBszLYqiX12ms9RBzPSFazGnI\n",
      "i= Exp6(7)\n",
      "1zs0ss59yLM1xqoOKM5BgZ0b0u-GRln24\n",
      "i= Exp7(8)\n",
      "1bMeB7DgIvmBkN5g99PVUe1VFHdDDFNqE\n",
      "i= Exp8(9)\n",
      "1pMKuiQ94n1lzXFSwPEFuVZ2aHYE2vy1-\n",
      "i= Exp9(10)\n",
      "1Ri5iHWYBIgz8tGcbQKl8oyyJd7YBJJ0h\n",
      "i= Exp10(11)\n",
      "1X4FWFzKxU47NVt250Gr-X45jjbo8c8Fb\n",
      "j= leg\n",
      "i= Exp2\n",
      "1u2JN_yVS9I-aDDk-xtRFLs9SDdrUNo0f\n",
      "i= Exp3\n",
      "1qolBHxLSiGi-bmDUZ-V0WzaCay7UaA3x\n",
      "i= Exp4(5)\n",
      "1eEh3oZpFoCo4dGdcVoGH6kuwIe7QY6rr\n",
      "i= Exp5\n",
      "1P3E_T65CdJncewSVA-3H8hveejoqcdy4\n",
      "i= Exp6(7)\n",
      "1kFniM6vHQVy659t0I4R86xH6bfGgo97K\n",
      "i= Exp7(8)\n",
      "19j6veOIvJoe3aln1MURMChglvMA2F5AS\n",
      "i= Exp8(9)\n",
      "1akmRWg8bhkKlAQV0XimEPTzsa7_UvazU\n",
      "i= Exp9(10)\n",
      "1llYUn_deIMOUQl14-aJL9Gw5BqT3nH53\n",
      "i= Exp10(11)\n",
      "1hdnEeKw7eb2bEvJLbtd12irF3N5qIFmc\n"
     ]
    }
   ],
   "source": [
    "for j in URL_keys.keys():\n",
    "    print(\"j=\",j)\n",
    "    for i in URL_keys[j]:\n",
    "        print(\"i=\",i)\n",
    "        data_gyr=import_from_google(URL_keys[j][i],'Gyroscope')\n",
    "        data_acc=import_from_google(URL_keys[j][i],'Accelerometer')\n",
    "        print(URL_keys[j][i])\n",
    "\n",
    "        experiment_header = {\n",
    "            \"experiment_name\" : i,\n",
    "            \"video_time\" : video_time[i],\n",
    "            \"URL_key\" : URL_keys[j][i],\n",
    "            \"sensor\" : j,\n",
    "            \"classification\" : classification[i]\n",
    "        }\n",
    "\n",
    "        json1=to_json(data_gyr)\n",
    "        json2=to_json(data_acc)\n",
    "        json3=json.dumps(experiment_header,indent=4)\n",
    "\n",
    "        json_result=\"\"\n",
    "\n",
    "        json_result += json3\n",
    "        json_result += json1\n",
    "        json_result += json2\n",
    "\n",
    "        m = open(j+\"_\"+i+\".json\", \"w\")\n",
    "        m.write(json_result)\n",
    "        m.close()    \n"
   ]
  },
  {
   "cell_type": "markdown",
   "metadata": {},
   "source": [
    "json merge: https://pypi.org/project/jsonmerge/"
   ]
  },
  {
   "cell_type": "code",
   "execution_count": null,
   "metadata": {},
   "outputs": [],
   "source": []
  }
 ],
 "metadata": {
  "kernelspec": {
   "display_name": "Python 3",
   "language": "python",
   "name": "python3"
  },
  "language_info": {
   "codemirror_mode": {
    "name": "ipython",
    "version": 3
   },
   "file_extension": ".py",
   "mimetype": "text/x-python",
   "name": "python",
   "nbconvert_exporter": "python",
   "pygments_lexer": "ipython3",
   "version": "3.8.5"
  }
 },
 "nbformat": 4,
 "nbformat_minor": 2
}
