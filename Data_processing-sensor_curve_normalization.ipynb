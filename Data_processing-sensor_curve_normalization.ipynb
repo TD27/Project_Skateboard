{
 "cells": [
  {
   "cell_type": "markdown",
   "metadata": {},
   "source": [
    "# Creating a curve from training data\n"
   ]
  },
  {
   "cell_type": "code",
   "execution_count": 1,
   "metadata": {},
   "outputs": [],
   "source": [
    "import pandas as pd\n",
    "import numpy as np\n",
    "import matplotlib.pyplot as plt"
   ]
  },
  {
   "cell_type": "code",
   "execution_count": 2,
   "metadata": {},
   "outputs": [],
   "source": [
    "URL_keys_leg = {\n",
    "    \"Exp2\" : '1u2JN_yVS9I-aDDk-xtRFLs9SDdrUNo0f',\n",
    "#    \"Exp3\" : '1qolBHxLSiGi-bmDUZ-V0WzaCay7UaA3x',\n",
    "    \"Exp4(5)\" : '1eEh3oZpFoCo4dGdcVoGH6kuwIe7QY6rr',\n",
    "    \"Exp5\" : '1P3E_T65CdJncewSVA-3H8hveejoqcdy4',\n",
    "#    \"Exp6(7)\" : '1kFniM6vHQVy659t0I4R86xH6bfGgo97K',\n",
    "    \"Exp7(8)\" : '19j6veOIvJoe3aln1MURMChglvMA2F5AS',\n",
    "    \"Exp8(9)\" : '1akmRWg8bhkKlAQV0XimEPTzsa7_UvazU',\n",
    "#    \"Exp9(10)\" : '1llYUn_deIMOUQl14-aJL9Gw5BqT3nH53',\n",
    "    \"Exp10(11)\" : '1hdnEeKw7eb2bEvJLbtd12irF3N5qIFmc'\n",
    "}\n",
    "\n",
    "classification = {\n",
    "    \"Exp2\" : \"good\",\n",
    "    \"Exp3\" : \"bad\",\n",
    "    \"Exp4(5)\" : \"good\",\n",
    "    \"Exp5\" : \"good\",\n",
    "    \"Exp6(7)\" : \"bad\",\n",
    "    \"Exp7(8)\" : \"good\",\n",
    "    \"Exp8(9)\" : \"good\",\n",
    "    \"Exp9(10)\" : \"bad\",\n",
    "    \"Exp10(11)\" : \"good\"\n",
    "}"
   ]
  },
  {
   "cell_type": "code",
   "execution_count": 3,
   "metadata": {},
   "outputs": [],
   "source": [
    "def import_from_google (ID,name):\n",
    "    google_sheet_ID=ID\n",
    "    work_sheet=name\n",
    "    path='https://docs.google.com/spreadsheets/d/{0}/gviz/tq?tqx=out:csv&sheet={1}'.format(\n",
    "        google_sheet_ID,\n",
    "        work_sheet\n",
    "    )\n",
    "\n",
    "    data = pd.read_csv(path)\n",
    "    \n",
    "    if name==\"Gyroscope\":\n",
    "        data.columns = [c.replace(' ', '_') for c in data.columns]\n",
    "        data.columns = [c.replace('_(rad/s)', '') for c in data.columns]\n",
    "        data.columns = [c.replace('_(s)', '') for c in data.columns]\n",
    "    else:\n",
    "        data.columns = [c.replace(' ', '_') for c in data.columns]\n",
    "        data.columns = [c.replace('_(m/s^2)', '') for c in data.columns]\n",
    "        data.columns = [c.replace('_(s)', '') for c in data.columns]\n",
    "    \n",
    "    return data\n",
    "\n",
    "def print_graph (prefix,title,graphdata):\n",
    "    plt.figure(figsize=(15,5))\n",
    "    if title==\"Gyroscope\":\n",
    "        title=prefix+\" \"+title\n",
    "        plt.title(title)\n",
    "#        plt.ylim(-6,6)\n",
    "        plt.plot(graphdata.index, graphdata.Gyroscope_x, color=\"red\")\n",
    "        plt.plot(graphdata.index, graphdata.Gyroscope_y, color=\"blue\")\n",
    "        plt.plot(graphdata.index, graphdata.Gyroscope_z, color=\"green\")\n",
    "        plt.show()\n",
    "        \n",
    "    if title==\"Accelerometer\":\n",
    "        title=prefix+\" \"+title\n",
    "        plt.title(title)\n",
    "        plt.plot(graphdata.index, graphdata.Acceleration_x, color=\"red\")\n",
    "        plt.plot(graphdata.index, graphdata.Acceleration_y, color=\"blue\")\n",
    "        plt.plot(graphdata.index, graphdata.Acceleration_z, color=\"green\")\n",
    "        plt.show()\n",
    "        \n",
    "def limit (data,idx_max,idx_min,delta):\n",
    "        return data.loc[idx_max_acc-delta:idx_max_acc+delta,:] #omezení rozsahu na +/- deltu"
   ]
  },
  {
   "cell_type": "code",
   "execution_count": 5,
   "metadata": {
    "scrolled": false
   },
   "outputs": [
    {
     "ename": "NameError",
     "evalue": "name 'idx_max_gyr' is not defined",
     "output_type": "error",
     "traceback": [
      "\u001b[0;31m---------------------------------------------------------------------------\u001b[0m",
      "\u001b[0;31mNameError\u001b[0m                                 Traceback (most recent call last)",
      "\u001b[0;32m<ipython-input-5-7d578d917a8a>\u001b[0m in \u001b[0;36m<module>\u001b[0;34m\u001b[0m\n\u001b[1;32m     15\u001b[0m     \u001b[0mgraphdata_gyr\u001b[0m\u001b[0;34m=\u001b[0m\u001b[0mlimit\u001b[0m\u001b[0;34m(\u001b[0m\u001b[0mdata_gyr\u001b[0m\u001b[0;34m,\u001b[0m\u001b[0midx_max_acc\u001b[0m\u001b[0;34m,\u001b[0m\u001b[0midx_min_acc\u001b[0m\u001b[0;34m,\u001b[0m\u001b[0mdelta\u001b[0m\u001b[0;34m)\u001b[0m\u001b[0;34m\u001b[0m\u001b[0;34m\u001b[0m\u001b[0m\n\u001b[1;32m     16\u001b[0m     \u001b[0mgraphdata_gyr\u001b[0m\u001b[0;34m=\u001b[0m\u001b[0mgraphdata_gyr\u001b[0m\u001b[0;34m.\u001b[0m\u001b[0mreset_index\u001b[0m\u001b[0;34m(\u001b[0m\u001b[0mdrop\u001b[0m\u001b[0;34m=\u001b[0m\u001b[0;32mTrue\u001b[0m\u001b[0;34m)\u001b[0m \u001b[0;31m#reset indexu\u001b[0m\u001b[0;34m\u001b[0m\u001b[0;34m\u001b[0m\u001b[0m\n\u001b[0;32m---> 17\u001b[0;31m     \u001b[0mgraphdata_acc\u001b[0m\u001b[0;34m=\u001b[0m\u001b[0mlimit\u001b[0m\u001b[0;34m(\u001b[0m\u001b[0mdata_gyr\u001b[0m\u001b[0;34m,\u001b[0m\u001b[0midx_max_gyr\u001b[0m\u001b[0;34m,\u001b[0m\u001b[0midx_min_acc\u001b[0m\u001b[0;34m,\u001b[0m\u001b[0mdelta\u001b[0m\u001b[0;34m)\u001b[0m\u001b[0;34m\u001b[0m\u001b[0;34m\u001b[0m\u001b[0m\n\u001b[0m\u001b[1;32m     18\u001b[0m     \u001b[0mgraphdata_acc\u001b[0m\u001b[0;34m=\u001b[0m\u001b[0mgraphdata_acc\u001b[0m\u001b[0;34m.\u001b[0m\u001b[0mreset_index\u001b[0m\u001b[0;34m(\u001b[0m\u001b[0mdrop\u001b[0m\u001b[0;34m=\u001b[0m\u001b[0;32mTrue\u001b[0m\u001b[0;34m)\u001b[0m \u001b[0;31m#reset indexu\u001b[0m\u001b[0;34m\u001b[0m\u001b[0;34m\u001b[0m\u001b[0m\n\u001b[1;32m     19\u001b[0m \u001b[0;34m\u001b[0m\u001b[0m\n",
      "\u001b[0;31mNameError\u001b[0m: name 'idx_max_gyr' is not defined"
     ]
    }
   ],
   "source": [
    "delta=100\n",
    "n=0\n",
    "\n",
    "for i in URL_keys_leg:\n",
    "    data_gyr = import_from_google(URL_keys_leg[i],\"Gyroscope\")\n",
    "    data_acc = import_from_google(URL_keys_leg[i],\"Accelerometer\")\n",
    "\n",
    "#    data_acc.describe()\n",
    "    \n",
    "    idx_max_acc=data_acc[\"Acceleration_y\"].idxmax() #výpočet indexu maxima\n",
    "    idx_min_acc=data_acc[\"Acceleration_y\"].idxmin() #výpočet indexu maxima\n",
    "\n",
    "    delta_time=data_acc.loc[idx_min_acc,\"Time\"]-data_acc.loc[idx_max_acc,\"Time\"] #čas maximum - minimum\n",
    "    \n",
    "    graphdata_gyr=limit(data_gyr,idx_max_acc,idx_min_acc,delta)\n",
    "    graphdata_gyr=graphdata_gyr.reset_index(drop=True) #reset indexu\n",
    "    graphdata_acc=limit(data_gyr,idx_max_gyr,idx_min_acc,delta) # <--------TADY NĚKDE JE CHYBA ----------\n",
    "    graphdata_acc=graphdata_acc.reset_index(drop=True) #reset indexu\n",
    "\n",
    "        \n",
    "    if i==\"Exp2\":\n",
    "        graphdata_gyr=limit(data_gyr,idx_max_acc,idx_min_acc,delta)\n",
    "        graphdata_acc=limit(data_acc,idx_max_acc,idx_min_acc,delta)\n",
    "      \n",
    "        final_gyr=graphdata_gyr.drop(columns=\"Time\")\n",
    "        final_acc=graphdata_acc.drop(columns=\"Time\")\n",
    "    \n",
    "    final_gyr=final_gyr+graphdata_gyr.drop(columns=\"Time\")\n",
    "    final_acc=final_acc+graphdata_acc.drop(columns=\"Time\")\n",
    "    \n",
    "        \n",
    "    print(\"-------------- Experiment \",i,\"-------------\")\n",
    "    print(\"quality=\",classification[i])\n",
    "    print(final_gyr.describe())\n",
    "    print(final_acc.describe())    \n",
    "#    print(\"idx max=\",idx_max_acc)\n",
    "#    print(\"idx min=\",idx_min_acc)\n",
    "#    print(\"delta time=\",delta_time)\n",
    "\n",
    "#    print(graphdata_gyr.head(n=10))\n",
    "#    print(graphdata_acc.head(n=10))\n",
    "#    print(\"---FINAL---\")\n",
    "#    print(final_gyr.head(n=10))\n",
    "#    print(final_acc.head(n=10))\n",
    "    \n",
    "    print_graph(i,\"Gyroscope\",graphdata_gyr)\n",
    "    print_graph(i,\"Accelerometer\",graphdata_acc)\n",
    "    \n",
    "    n=n+1\n",
    "\n",
    "    \n",
    "#--- final ---    \n",
    "\n",
    "final_gyr=final_gyr/n #normalizace výsledné křivky\n",
    "final_acc=final_acc/n #normalizace výsledné křivky\n",
    "\n",
    "print(\"---FINAL-FINAL---\")\n",
    "print(final_gyr.describe())\n",
    "print(final_acc.describe())\n",
    "\n",
    "#print(final_gyr.head(n=10))    \n",
    "#print(final_acc.head(n=10))\n",
    "\n",
    "print_graph(\"Final\",\"Gyroscope\",final_gyr)\n",
    "print_graph(\"Final\",\"Accelerometer\",final_acc)"
   ]
  },
  {
   "cell_type": "code",
   "execution_count": null,
   "metadata": {},
   "outputs": [],
   "source": []
  }
 ],
 "metadata": {
  "kernelspec": {
   "display_name": "Python 3",
   "language": "python",
   "name": "python3"
  },
  "language_info": {
   "codemirror_mode": {
    "name": "ipython",
    "version": 3
   },
   "file_extension": ".py",
   "mimetype": "text/x-python",
   "name": "python",
   "nbconvert_exporter": "python",
   "pygments_lexer": "ipython3",
   "version": "3.8.5"
  }
 },
 "nbformat": 4,
 "nbformat_minor": 2
}
